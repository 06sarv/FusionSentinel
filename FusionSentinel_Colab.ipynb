{
 "cells": [
  {
   "cell_type": "markdown",
   "metadata": {
    "id": "header"
   },
   "source": [
    "# FusionSentinel: Multi-Modal Cyber Threat Detection\n",
    "\n",
    "**Train the model with GPU acceleration on Google Colab**\n",
    "\n",
    "[![Open In Colab](https://colab.research.google.com/assets/colab-badge.svg)](https://colab.research.google.com/github/06sarv/FusionSentinel/blob/main/FusionSentinel_Colab.ipynb)\n",
    "\n",
    "---\n",
    "\n",
    "## Setup Instructions\n",
    "\n",
    "1. **Enable GPU**: Go to `Runtime` → `Change runtime type` → Select `T4 GPU`\n",
    "2. **Run all cells** below in order\n",
    "3. Training will take ~30-60 minutes with GPU (vs 8-9 hours on CPU)\n",
    "\n",
    "---"
   ]
  },
  {
   "cell_type": "markdown",
   "metadata": {
    "id": "setup"
   },
   "source": [
    "## 1. Clone Repository and Install Dependencies"
   ]
  },
  {
   "cell_type": "code",
   "execution_count": null,
   "metadata": {
    "id": "clone"
   },
   "outputs": [],
   "source": [
    "# Clone the repository\n",
    "!git clone https://github.com/06sarv/FusionSentinel.git\n",
    "%cd FusionSentinel"
   ]
  },
  {
   "cell_type": "code",
   "execution_count": null,
   "metadata": {
    "id": "install"
   },
   "outputs": [],
   "source": [
    "# Install dependencies\n",
    "!pip install -q -r requirements.txt"
   ]
  },
  {
   "cell_type": "markdown",
   "metadata": {
    "id": "config"
   },
   "source": [
    "## 2. Configure for GPU Training"
   ]
  },
  {
   "cell_type": "code",
   "execution_count": null,
   "metadata": {
    "id": "gpu_config"
   },
   "outputs": [],
   "source": [
    "# Update config to use GPU\n",
    "!sed -i 's/device: \"cpu\"/device: \"cuda\"/' config.yaml\n",
    "\n",
    "# Verify GPU is available\n",
    "import torch\n",
    "print(f\"GPU Available: {torch.cuda.is_available()}\")\n",
    "if torch.cuda.is_available():\n",
    "    print(f\"GPU Name: {torch.cuda.get_device_name(0)}\")\n",
    "    print(f\"GPU Memory: {torch.cuda.get_device_properties(0).total_memory / 1e9:.2f} GB\")"
   ]
  },
  {
   "cell_type": "markdown",
   "metadata": {
    "id": "train"
   },
   "source": [
    "## 3. Generate Data and Train Model"
   ]
  },
  {
   "cell_type": "code",
   "execution_count": null,
   "metadata": {
    "id": "training"
   },
   "outputs": [],
   "source": [
    "# Generate synthetic data and train\n",
    "!python train.py --generate-data --num-samples 10000"
   ]
  },
  {
   "cell_type": "markdown",
   "metadata": {
    "id": "evaluate"
   },
   "source": [
    "## 4. Evaluate Model (Optional)"
   ]
  },
  {
   "cell_type": "code",
   "execution_count": null,
   "metadata": {
    "id": "eval"
   },
   "outputs": [],
   "source": [
    "# Evaluate the trained model\n",
    "!python evaluate.py --checkpoint checkpoints/best_model.pth --visualize"
   ]
  },
  {
   "cell_type": "markdown",
   "metadata": {
    "id": "visualize"
   },
   "source": [
    "## 5. View Results"
   ]
  },
  {
   "cell_type": "code",
   "execution_count": null,
   "metadata": {
    "id": "results"
   },
   "outputs": [],
   "source": [
    "# Display training curves\n",
    "from IPython.display import Image, display\n",
    "import os\n",
    "\n",
    "viz_dir = 'visualizations'\n",
    "if os.path.exists(viz_dir):\n",
    "    print(\"Training History:\")\n",
    "    if os.path.exists(f'{viz_dir}/training_history.png'):\n",
    "        display(Image(f'{viz_dir}/training_history.png'))\n",
    "    \n",
    "    print(\"\\nConfusion Matrix:\")\n",
    "    if os.path.exists(f'{viz_dir}/confusion_matrix.png'):\n",
    "        display(Image(f'{viz_dir}/confusion_matrix.png'))\n",
    "    \n",
    "    print(\"\\nPer-Class Metrics:\")\n",
    "    if os.path.exists(f'{viz_dir}/per_class_metrics.png'):\n",
    "        display(Image(f'{viz_dir}/per_class_metrics.png'))\n",
    "else:\n",
    "    print(\"No visualizations found. Run evaluation first.\")"
   ]
  },
  {
   "cell_type": "markdown",
   "metadata": {
    "id": "download"
   },
   "source": [
    "## 6. Download Trained Model (Optional)"
   ]
  },
  {
   "cell_type": "code",
   "execution_count": null,
   "metadata": {
    "id": "download_model"
   },
   "outputs": [],
   "source": [
    "# Download the trained model to your local machine\n",
    "from google.colab import files\n",
    "\n",
    "if os.path.exists('checkpoints/best_model.pth'):\n",
    "    files.download('checkpoints/best_model.pth')\n",
    "    print(\"Model downloaded!\")\n",
    "else:\n",
    "    print(\"No trained model found.\")"
   ]
  },
  {
   "cell_type": "markdown",
   "metadata": {
    "id": "inference"
   },
   "source": [
    "## 7. Run Inference Demo"
   ]
  },
  {
   "cell_type": "code",
   "execution_count": null,
   "metadata": {
    "id": "inference_demo"
   },
   "outputs": [],
   "source": [
    "# Quick inference demo\n",
    "!python inference.py --checkpoint checkpoints/best_model.pth --device cuda"
   ]
  },
  {
   "cell_type": "markdown",
   "metadata": {
    "id": "footer"
   },
   "source": [
    "---\n",
    "\n",
    "## Notes\n",
    "\n",
    "- **GPU Training**: ~30-60 minutes for 100 epochs\n",
    "- **Model Size**: 8.1M parameters\n",
    "- **Dataset**: 10,000 synthetic samples (7K train, 1.5K val, 1.5K test)\n",
    "- **Expected Accuracy**: 96-97%\n",
    "\n",
    "## Troubleshooting\n",
    "\n",
    "- If GPU is not available, check: `Runtime` → `Change runtime type` → `T4 GPU`\n",
    "- If out of memory, reduce batch size in `config.yaml`\n",
    "- For faster training, reduce epochs to 20-30 in `config.yaml`\n",
    "\n",
    "---\n",
    "\n",
    "**Repository**: [github.com/06sarv/FusionSentinel](https://github.com/06sarv/FusionSentinel)"
   ]
  }
 ],
 "metadata": {
  "accelerator": "GPU",
  "colab": {
   "gpuType": "T4",
   "provenance": []
  },
  "kernelspec": {
   "display_name": "Python 3",
   "name": "python3"
  },
  "language_info": {
   "name": "python"
  }
 },
 "nbformat": 4,
 "nbformat_minor": 0
}
